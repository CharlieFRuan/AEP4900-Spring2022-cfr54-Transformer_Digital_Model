{
 "cells": [
  {
   "cell_type": "code",
   "execution_count": 67,
   "id": "5831bd77-f5ab-477a-8143-c9848c2035d1",
   "metadata": {},
   "outputs": [],
   "source": [
    "import numpy as np\n",
    "import h5py\n",
    "import torch\n",
    "import matplotlib.pyplot as plt"
   ]
  },
  {
   "cell_type": "code",
   "execution_count": 80,
   "id": "b65e7cb1-477b-4992-8303-ce2c61296439",
   "metadata": {},
   "outputs": [],
   "source": [
    "data_dir = \"/Users/charlieruan/projects_data/McMahon/data/lorenz_training_rk.hdf5\"\n",
    "file_path = \"/Users/charlieruan/projects_data/McMahon/data/train_10_pendula.hdf5\"\n",
    "data = None\n",
    "examples = []\n",
    "block_size = 16\n",
    "stride = 16\n",
    "ndata = 1024\n",
    "\n",
    "with h5py.File(data_dir, \"r\") as f:\n",
    "    # Iterate through stored time-series\n",
    "    samples = 0\n",
    "    for key in f.keys():\n",
    "        data_series = torch.Tensor(f[key])\n",
    "        # Stride over time-series\n",
    "        for i in range(0,  data_series.size(0) - block_size + 1, stride):  # Truncate in block of block_size\n",
    "            examples.append(data_series[i : i + block_size].unsqueeze(0))\n",
    "\n",
    "        samples = samples + 1\n",
    "        if(ndata > 0 and samples > ndata): #If we have enough time-series samples break loop\n",
    "            break"
   ]
  },
  {
   "cell_type": "code",
   "execution_count": 93,
   "id": "6aca58d6-cc5d-464f-9f77-90c5f43a2a11",
   "metadata": {},
   "outputs": [
    {
     "ename": "NameError",
     "evalue": "name 'self' is not defined",
     "output_type": "error",
     "traceback": [
      "\u001b[0;31m---------------------------------------------------------------------------\u001b[0m",
      "\u001b[0;31mNameError\u001b[0m                                 Traceback (most recent call last)",
      "\u001b[0;32m/var/folders/fb/_j_dwd_s4bs08b9lf5qjhmy40000gn/T/ipykernel_23103/1250422512.py\u001b[0m in \u001b[0;36m<module>\u001b[0;34m\u001b[0m\n\u001b[1;32m      9\u001b[0m             \u001b[0;32mbreak\u001b[0m\u001b[0;34m\u001b[0m\u001b[0;34m\u001b[0m\u001b[0m\n\u001b[1;32m     10\u001b[0m \u001b[0mdata\u001b[0m \u001b[0;34m=\u001b[0m \u001b[0mtorch\u001b[0m\u001b[0;34m.\u001b[0m\u001b[0mcat\u001b[0m\u001b[0;34m(\u001b[0m\u001b[0mexamples\u001b[0m\u001b[0;34m,\u001b[0m \u001b[0mdim\u001b[0m\u001b[0;34m=\u001b[0m\u001b[0;36m0\u001b[0m\u001b[0;34m)\u001b[0m\u001b[0;34m\u001b[0m\u001b[0;34m\u001b[0m\u001b[0m\n\u001b[0;32m---> 11\u001b[0;31m \u001b[0mself\u001b[0m\u001b[0;34m.\u001b[0m\u001b[0mmu\u001b[0m \u001b[0;34m=\u001b[0m \u001b[0mtorch\u001b[0m\u001b[0;34m.\u001b[0m\u001b[0mmean\u001b[0m\u001b[0;34m(\u001b[0m\u001b[0mdata\u001b[0m\u001b[0;34m,\u001b[0m \u001b[0mdim\u001b[0m\u001b[0;34m=\u001b[0m\u001b[0;34m(\u001b[0m\u001b[0;36m0\u001b[0m\u001b[0;34m,\u001b[0m\u001b[0;36m1\u001b[0m\u001b[0;34m)\u001b[0m\u001b[0;34m)\u001b[0m \u001b[0;31m# mean for each state across data and time\u001b[0m\u001b[0;34m\u001b[0m\u001b[0;34m\u001b[0m\u001b[0m\n\u001b[0m\u001b[1;32m     12\u001b[0m \u001b[0mself\u001b[0m\u001b[0;34m.\u001b[0m\u001b[0mstd\u001b[0m \u001b[0;34m=\u001b[0m \u001b[0mtorch\u001b[0m\u001b[0;34m.\u001b[0m\u001b[0mstd\u001b[0m\u001b[0;34m(\u001b[0m\u001b[0mdata\u001b[0m\u001b[0;34m,\u001b[0m \u001b[0mdim\u001b[0m\u001b[0;34m=\u001b[0m\u001b[0;34m(\u001b[0m\u001b[0;36m0\u001b[0m\u001b[0;34m,\u001b[0m\u001b[0;36m1\u001b[0m\u001b[0;34m)\u001b[0m\u001b[0;34m)\u001b[0m \u001b[0;31m# std for each state across data and time\u001b[0m\u001b[0;34m\u001b[0m\u001b[0;34m\u001b[0m\u001b[0m\n\u001b[1;32m     13\u001b[0m \u001b[0;34m\u001b[0m\u001b[0m\n",
      "\u001b[0;31mNameError\u001b[0m: name 'self' is not defined"
     ]
    }
   ],
   "source": [
    "examples = []\n",
    "cur_num = 0\n",
    "with h5py.File(file_path, \"r\") as f:\n",
    "    for key in f.keys():\n",
    "        data_series = torch.Tensor(np.array(f[key]))\n",
    "        examples.append(data_series.unsqueeze(0))\n",
    "        cur_num += 1\n",
    "        if (cur_num >= ndata):\n",
    "            break\n",
    "data = torch.cat(examples, dim=0)\n",
    "self.mu = torch.mean(data, dim=(0,1)) # mean for each state across data and time\n",
    "self.std = torch.std(data, dim=(0,1)) # std for each state across data and time\n",
    "\n",
    "dataset = self.PendulumDataset(data)\n",
    "training_loader = DataLoader(dataset, batch_size=batch_size, shuffle=shuffle)"
   ]
  },
  {
   "cell_type": "code",
   "execution_count": 85,
   "id": "a43e0af0-3427-421e-a16d-ae22618e9a7f",
   "metadata": {},
   "outputs": [
    {
     "data": {
      "text/plain": [
       "torch.Size([1024, 60, 20])"
      ]
     },
     "execution_count": 85,
     "metadata": {},
     "output_type": "execute_result"
    }
   ],
   "source": [
    "data.shape"
   ]
  },
  {
   "cell_type": "code",
   "execution_count": 88,
   "id": "53b433ab-d74f-441a-83d1-4e7dc8c4297c",
   "metadata": {},
   "outputs": [
    {
     "data": {
      "text/plain": [
       "tensor(0.0014)"
      ]
     },
     "execution_count": 88,
     "metadata": {},
     "output_type": "execute_result"
    }
   ],
   "source": [
    "torch.mean(data[:,:,0])"
   ]
  },
  {
   "cell_type": "code",
   "execution_count": 92,
   "id": "5803b72c-d6b9-41a5-9a62-429f7a78e308",
   "metadata": {},
   "outputs": [
    {
     "data": {
      "text/plain": [
       "tensor([ 1.4264e-03, -2.7336e-02,  9.9022e-04,  1.7065e-02, -1.3073e-03,\n",
       "        -3.3324e-03, -5.3278e-04,  2.4870e-02,  4.6689e-04, -2.5838e-02,\n",
       "         4.7171e-04,  1.9141e-02, -9.1947e-05, -2.1275e-02, -1.0221e-03,\n",
       "         1.1455e-02, -1.9095e-03, -1.4080e-02, -3.7234e-04,  1.4630e-02])"
      ]
     },
     "execution_count": 92,
     "metadata": {},
     "output_type": "execute_result"
    }
   ],
   "source": [
    "torch.mean(data, dim=(0,1))"
   ]
  },
  {
   "cell_type": "code",
   "execution_count": 96,
   "id": "4ea750ab-36c3-4dab-a067-2ec059a11f6f",
   "metadata": {},
   "outputs": [
    {
     "data": {
      "text/plain": [
       "tensor([1.0000, 0.9677, 0.9355, 0.9032, 0.8710, 0.8387, 0.8065, 0.7742, 0.7419,\n",
       "        0.7097, 0.6774, 0.6452, 0.6129, 0.5806, 0.5484, 0.5161, 0.4839, 0.4516,\n",
       "        0.4194, 0.3871, 0.3548, 0.3226, 0.2903, 0.2581, 0.2258, 0.1935, 0.1613,\n",
       "        0.1290, 0.0968, 0.0645, 0.0323, 0.0000])"
      ]
     },
     "execution_count": 96,
     "metadata": {},
     "output_type": "execute_result"
    }
   ],
   "source": [
    "torch.linspace(1, 0, 32)"
   ]
  },
  {
   "cell_type": "code",
   "execution_count": 97,
   "id": "2cfd4c33-ee35-49ac-84f1-771435f78ab4",
   "metadata": {},
   "outputs": [],
   "source": [
    "n_embd = 32\n",
    "xidx = []\n",
    "yidx = []\n",
    "for i in range(1, 3):\n",
    "    yidx.append(np.arange(i, n_embd))\n",
    "    xidx.append(np.arange(0, n_embd-i))"
   ]
  },
  {
   "cell_type": "code",
   "execution_count": 98,
   "id": "d8d8593d-3cd0-4009-b713-9bae17c320b4",
   "metadata": {},
   "outputs": [
    {
     "data": {
      "text/plain": [
       "[array([ 0,  1,  2,  3,  4,  5,  6,  7,  8,  9, 10, 11, 12, 13, 14, 15, 16,\n",
       "        17, 18, 19, 20, 21, 22, 23, 24, 25, 26, 27, 28, 29, 30]),\n",
       " array([ 0,  1,  2,  3,  4,  5,  6,  7,  8,  9, 10, 11, 12, 13, 14, 15, 16,\n",
       "        17, 18, 19, 20, 21, 22, 23, 24, 25, 26, 27, 28, 29])]"
      ]
     },
     "execution_count": 98,
     "metadata": {},
     "output_type": "execute_result"
    }
   ],
   "source": [
    "xidx"
   ]
  },
  {
   "cell_type": "code",
   "execution_count": 100,
   "id": "c84cdcf2-f3aa-4cf3-b4b9-d366c04dabb2",
   "metadata": {},
   "outputs": [
    {
     "data": {
      "text/plain": [
       "[array([ 1,  2,  3,  4,  5,  6,  7,  8,  9, 10, 11, 12, 13, 14, 15, 16, 17,\n",
       "        18, 19, 20, 21, 22, 23, 24, 25, 26, 27, 28, 29, 30, 31]),\n",
       " array([ 2,  3,  4,  5,  6,  7,  8,  9, 10, 11, 12, 13, 14, 15, 16, 17, 18,\n",
       "        19, 20, 21, 22, 23, 24, 25, 26, 27, 28, 29, 30, 31])]"
      ]
     },
     "execution_count": 100,
     "metadata": {},
     "output_type": "execute_result"
    }
   ],
   "source": [
    "yidx"
   ]
  },
  {
   "cell_type": "code",
   "execution_count": 99,
   "id": "087cd25d-a186-49c0-a599-d9e8faec22d5",
   "metadata": {},
   "outputs": [
    {
     "data": {
      "text/plain": [
       "tensor([ 0,  1,  2,  3,  4,  5,  6,  7,  8,  9, 10, 11, 12, 13, 14, 15, 16, 17,\n",
       "        18, 19, 20, 21, 22, 23, 24, 25, 26, 27, 28, 29, 30,  0,  1,  2,  3,  4,\n",
       "         5,  6,  7,  8,  9, 10, 11, 12, 13, 14, 15, 16, 17, 18, 19, 20, 21, 22,\n",
       "        23, 24, 25, 26, 27, 28, 29])"
      ]
     },
     "execution_count": 99,
     "metadata": {},
     "output_type": "execute_result"
    }
   ],
   "source": [
    "torch.LongTensor(np.concatenate(xidx))"
   ]
  },
  {
   "cell_type": "code",
   "execution_count": null,
   "id": "1e54b7c3-4629-4a53-8cbd-7ce57f21ec2c",
   "metadata": {},
   "outputs": [],
   "source": []
  }
 ],
 "metadata": {
  "kernelspec": {
   "display_name": "Python 3 (ipykernel)",
   "language": "python",
   "name": "python3"
  },
  "language_info": {
   "codemirror_mode": {
    "name": "ipython",
    "version": 3
   },
   "file_extension": ".py",
   "mimetype": "text/x-python",
   "name": "python",
   "nbconvert_exporter": "python",
   "pygments_lexer": "ipython3",
   "version": "3.9.10"
  }
 },
 "nbformat": 4,
 "nbformat_minor": 5
}
