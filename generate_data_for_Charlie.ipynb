{
 "cells": [
  {
   "cell_type": "code",
   "execution_count": 2,
   "metadata": {
    "ExecuteTime": {
     "end_time": "2021-04-27T17:24:33.507908Z",
     "start_time": "2021-04-27T17:24:33.132906Z"
    },
    "scrolled": true,
    "tags": []
   },
   "outputs": [],
   "source": [
    "import torch\n",
    "import numpy as np\n",
    "import matplotlib.pyplot as plt\n",
    "from exp import CoupledPendula"
   ]
  },
  {
   "cell_type": "code",
   "execution_count": 3,
   "metadata": {
    "ExecuteTime": {
     "end_time": "2021-04-27T17:24:33.617282Z",
     "start_time": "2021-04-27T17:24:33.523532Z"
    },
    "scrolled": true,
    "tags": []
   },
   "outputs": [],
   "source": [
    "def simulate_pendula(n_samples, n_pendula, sanity_check = False):\n",
    "    # simulate a chain of coupled pendula with the following parameters\n",
    "    # the parameters are explained in the exp.py file\n",
    "    pend = CoupledPendula(Tmax = 2)\n",
    "    \n",
    "    ω0 = torch.tensor([10.]*n_pendula).repeat(n_samples,1)\n",
    "    ωd = torch.tensor([0.]*n_pendula).repeat(n_samples,1)\n",
    "    Ad = torch.tensor([0.]*n_pendula).repeat(n_samples,1)\n",
    "    v0 = torch.tensor([0.]*n_pendula).repeat(n_samples,1)\n",
    "    coupling = torch.tensor([10.]*n_pendula).repeat(n_samples,1)\n",
    "    γ = torch.tensor([0.]*n_pendula).repeat(n_samples,1)\n",
    "    encoding_amplitude = torch.tensor(1.).repeat(n_samples,1)\n",
    "    phid = torch.tensor([0.]*n_pendula).repeat(n_samples,1)\n",
    "\n",
    "    # set initial angles (in rad)\n",
    "    if not sanity_check:\n",
    "        # i.e. initial theta uniformly random between -pi/2 to pi/2\n",
    "        theta_initial = torch.rand([n_samples,n_pendula])*np.pi - np.pi/2\n",
    "    else:\n",
    "        # i.e. initial theta uniformly random between -pi/10 and pi/10\n",
    "        theta_initial = (torch.rand([n_samples,n_pendula])*np.pi - np.pi/2) / 5\n",
    "\n",
    "    # propagate through setup. The \"full=True\" parameter determines that the full\n",
    "    # time evolution of the pendula is returned instead of just the final angle.\n",
    "    theta = pend(theta_initial, ω0, ωd, Ad, v0, coupling, γ, encoding_amplitude, phid, full = True)\n",
    "    return theta"
   ]
  },
  {
   "cell_type": "code",
   "execution_count": 4,
   "metadata": {
    "tags": []
   },
   "outputs": [],
   "source": [
    "theta = simulate_pendula(n_samples = 10000, n_pendula = 1)\n",
    "np.savez('single_pendulum.npz',\n",
    "         theta = theta)"
   ]
  },
  {
   "cell_type": "code",
   "execution_count": 5,
   "metadata": {
    "tags": []
   },
   "outputs": [
    {
     "name": "stdout",
     "output_type": "stream",
     "text": [
      "theta\n"
     ]
    }
   ],
   "source": [
    "theta = simulate_pendula(n_samples = 50000, n_pendula = 10)\n",
    "np.savez('10pendula.npz',\n",
    "         theta = theta)\n",
    "data = np.load('10pendula.npz')\n",
    "for key, val in data.items():\n",
    "    print(key)\n",
    "    exec(key + '=val')"
   ]
  },
  {
   "cell_type": "code",
   "execution_count": 5,
   "metadata": {
    "execution": {
     "iopub.execute_input": "2022-02-08T16:25:11.364408Z",
     "iopub.status.busy": "2022-02-08T16:25:11.364408Z",
     "iopub.status.idle": "2022-02-08T16:25:11.679472Z",
     "shell.execute_reply": "2022-02-08T16:25:11.679472Z",
     "shell.execute_reply.started": "2022-02-08T16:25:11.364408Z"
    },
    "tags": []
   },
   "outputs": [
    {
     "name": "stdout",
     "output_type": "stream",
     "text": [
      "theta\n"
     ]
    }
   ],
   "source": [
    "theta = simulate_pendula(n_samples = 50000, n_pendula = 10, sanity_check = True)\n",
    "np.savez('10pendula_sanity_check.npz',\n",
    "         theta = theta)\n",
    "data = np.load('10pendula_sanity_check.npz')\n",
    "for key, val in data.items():\n",
    "    print(key)\n",
    "    exec(key + '=val')"
   ]
  },
  {
   "cell_type": "code",
   "execution_count": 9,
   "metadata": {
    "execution": {
     "iopub.execute_input": "2022-02-08T16:25:11.680468Z",
     "iopub.status.busy": "2022-02-08T16:25:11.680468Z",
     "iopub.status.idle": "2022-02-08T16:25:11.696090Z",
     "shell.execute_reply": "2022-02-08T16:25:11.695088Z",
     "shell.execute_reply.started": "2022-02-08T16:25:11.680468Z"
    },
    "tags": []
   },
   "outputs": [
    {
     "data": {
      "text/plain": [
       "(60, 50000, 10, 2)"
      ]
     },
     "execution_count": 9,
     "metadata": {},
     "output_type": "execute_result"
    }
   ],
   "source": [
    "theta.shape"
   ]
  },
  {
   "cell_type": "markdown",
   "metadata": {},
   "source": [
    "Read the above as: Theta is an array with a time series of 60 points for 50000 different initial conditions of 10 pendula. The last dimension is 2 as it  contains position (0) and velocity (1) for each pendulum.\n",
    "\n",
    "Here is plotted, for example, the evolution of the position (angle) over time of the 2nd pendulum in the 121st sample:"
   ]
  },
  {
   "cell_type": "code",
   "execution_count": 11,
   "metadata": {
    "execution": {
     "iopub.execute_input": "2022-02-08T16:25:29.033650Z",
     "iopub.status.busy": "2022-02-08T16:25:29.033650Z",
     "iopub.status.idle": "2022-02-08T16:25:29.139831Z",
     "shell.execute_reply": "2022-02-08T16:25:29.139831Z",
     "shell.execute_reply.started": "2022-02-08T16:25:29.033650Z"
    },
    "tags": []
   },
   "outputs": [
    {
     "data": {
      "text/plain": [
       "[<matplotlib.lines.Line2D at 0x1a767868208>]"
      ]
     },
     "execution_count": 11,
     "metadata": {},
     "output_type": "execute_result"
    },
    {
     "data": {
      "image/png": "[encoded data removed]",
      "text/plain": [
       "<Figure size 432x288 with 1 Axes>"
      ]
     },
     "metadata": {
      "needs_background": "light"
     },
     "output_type": "display_data"
    }
   ],
   "source": [
    "plt.plot(theta[:, 111, 3, 0])"
   ]
  }
 ],
 "metadata": {
  "environment": {
   "kernel": "python3",
   "name": "pytorch-gpu.1-10.m90",
   "type": "gcloud",
   "uri": "gcr.io/deeplearning-platform-release/pytorch-gpu.1-10:m90"
  },
  "kernelspec": {
   "display_name": "Python 3 (ipykernel)",
   "language": "python",
   "name": "python3"
  },
  "language_info": {
   "codemirror_mode": {
    "name": "ipython",
    "version": 3
   },
   "file_extension": ".py",
   "mimetype": "text/x-python",
   "name": "python",
   "nbconvert_exporter": "python",
   "pygments_lexer": "ipython3",
   "version": "3.9.10"
  }
 },
 "nbformat": 4,
 "nbformat_minor": 4
}
